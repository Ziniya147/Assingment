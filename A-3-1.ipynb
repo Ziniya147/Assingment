{
 "cells": [
  {
   "cell_type": "markdown",
   "id": "c6e3b535-4546-4220-a7d1-70ccc7c8fbdf",
   "metadata": {},
   "source": [
    "Q1. Which keyword is used to create a function? Create a function to return a list of odd numbers in the\n",
    "range of 1 to 25."
   ]
  },
  {
   "cell_type": "markdown",
   "id": "ebe8fbd6-876b-4be8-80f9-e3a1c9f36d17",
   "metadata": {},
   "source": [
    "'def' keyword is used to create a function.\n"
   ]
  },
  {
   "cell_type": "code",
   "execution_count": 9,
   "id": "76adfb02-c390-401f-9ebb-e74c8acd7cdf",
   "metadata": {},
   "outputs": [
    {
     "name": "stdout",
     "output_type": "stream",
     "text": [
      "[1, 3, 5, 7, 9, 11, 13, 15, 17, 19, 21, 23, 25]\n"
     ]
    }
   ],
   "source": [
    "def odd_numbers(n):\n",
    "  return [x for x in range(n + 1) if x % 2 == 1]\n",
    "print(odd_numbers(25))\n"
   ]
  },
  {
   "cell_type": "markdown",
   "id": "b6e5fddd-5455-4640-9bf2-9d612062f070",
   "metadata": {},
   "source": [
    "Q2. Why *args and **kwargs is used in some functions? Create a function each for *args and **kwargs\n",
    "to demonstrate their use."
   ]
  },
  {
   "cell_type": "markdown",
   "id": "409dfb65-56f0-45db-949c-03a74844d51b",
   "metadata": {},
   "source": [
    "*args is a special type of keyword in functon which is used to pass the number of argument if it nor desided from the start that means if we put *args we can give any number of argument in that function . \n",
    "The special syntax **kwargs in function definitions in Python is used to pass a keyworded, variable-length argument list."
   ]
  },
  {
   "cell_type": "code",
   "execution_count": 9,
   "id": "08f7b643-75a8-4f57-81cb-e16793c0d66a",
   "metadata": {},
   "outputs": [
    {
     "name": "stdout",
     "output_type": "stream",
     "text": [
      "hi\n",
      "hello\n",
      "how\n",
      "are\n",
      "you\n",
      "first == Geeks\n",
      "mid == for\n",
      "last == Geeks\n"
     ]
    }
   ],
   "source": [
    "# example\n",
    "def test1(*argv):\n",
    "  for i in argv:\n",
    "        print(i)\n",
    "test1(\"hi\",\"hello\",\"how\",\"are\",\"you\") \n",
    "\n",
    "\n",
    "def myFun(**kwargs):\n",
    "    for key, value in kwargs.items():\n",
    "        print(\"%s == %s\" % (key, value))\n",
    " \n",
    " \n",
    "# Driver code\n",
    "myFun(first='Geeks', mid='for', last='Geeks')"
   ]
  },
  {
   "cell_type": "markdown",
   "id": "cfa8b14d-7e4e-41c6-aeab-58aff80fa694",
   "metadata": {},
   "source": [
    "Q3. What is an iterator in python? Name the method used to initialise the iterator object and the method\n",
    "used for iteration. Use these methods to print the first five elements of the given list [2, 4, 6, 8, 10, 12, 14,\n",
    "16, 18, 20]."
   ]
  },
  {
   "cell_type": "markdown",
   "id": "41ef433c-c1f1-43ff-9a33-ab8ea4d22cb2",
   "metadata": {},
   "source": [
    "Iterator are those objects or elements which are iterate itself like list,tuple,set,dectionary etc\n",
    "Iterator function can be initialised by iter() method. string is not an iterable function but we can make it . but is not a iterable and we can't even make it\n"
   ]
  },
  {
   "cell_type": "code",
   "execution_count": 19,
   "id": "e4855979-6109-4a66-80a6-027c77e9aacf",
   "metadata": {},
   "outputs": [
    {
     "name": "stdout",
     "output_type": "stream",
     "text": [
      "2\n",
      "4\n",
      "6\n",
      "10\n",
      "12\n"
     ]
    }
   ],
   "source": [
    "# example\n",
    "list= [2,4,6,10,12,14,16,18,20]\n",
    "a=iter(list)\n",
    "print(next(a))\n",
    "print(next(a))\n",
    "print(next(a))\n",
    "print(next(a))\n",
    "print(next(a))\n",
    "\n"
   ]
  },
  {
   "cell_type": "markdown",
   "id": "65fb3234-363c-4a12-9ef7-b12e41026a81",
   "metadata": {},
   "source": [
    "Q4. What is a generator function in python? Why yield keyword is used? Give an example of a generator\n",
    "function."
   ]
  },
  {
   "cell_type": "markdown",
   "id": "3c4b2113-51d8-40d8-8b81-d21bac37873f",
   "metadata": {},
   "source": [
    "Generator function is the type of function n which we generate something new , \"yield\" s special type of function which is used to generate something."
   ]
  },
  {
   "cell_type": "code",
   "execution_count": 56,
   "id": "0a15656e-dc22-40e9-a39f-4ac8fa184c11",
   "metadata": {},
   "outputs": [
    {
     "name": "stdout",
     "output_type": "stream",
     "text": [
      "0\n",
      "1\n",
      "1\n",
      "2\n",
      "3\n",
      "5\n",
      "8\n",
      "13\n",
      "21\n",
      "34\n"
     ]
    }
   ],
   "source": [
    "# example\n",
    "def fib(n):\n",
    "    a,b=0,1\n",
    "    for i in range(n):\n",
    "        yield a\n",
    "        a,b=b,a+b\n",
    "\n",
    "\n",
    "for i in fib(10):\n",
    "    print(i)\n",
    "\n",
    "        "
   ]
  },
  {
   "cell_type": "markdown",
   "id": "eec53332-f895-494b-ba4d-38f09e0e59ec",
   "metadata": {},
   "source": [
    "Q5. Create a generator function for prime numbers less than 1000. Use the next() method to print the\n",
    "first 20 prime numbers."
   ]
  },
  {
   "cell_type": "code",
   "execution_count": 2,
   "id": "190763e1-337c-406f-b334-3bb515c342f9",
   "metadata": {
    "tags": []
   },
   "outputs": [
    {
     "name": "stdout",
     "output_type": "stream",
     "text": [
      "1\n",
      "3\n",
      "5\n",
      "7\n",
      "9\n",
      "11\n",
      "13\n",
      "15\n",
      "17\n",
      "19\n",
      "21\n",
      "23\n",
      "25\n",
      "27\n",
      "29\n",
      "31\n",
      "33\n",
      "35\n",
      "37\n",
      "39\n"
     ]
    }
   ],
   "source": [
    "def prime(n):\n",
    "    for i in range(n):\n",
    "        if i%2==1:\n",
    "            print(i)\n",
    "prime(40)\n",
    "\n"
   ]
  },
  {
   "cell_type": "markdown",
   "id": "9cf50504-1302-4058-aba2-ea0d193d04fa",
   "metadata": {},
   "source": [
    "Q6. Write a python program to print the first 10 Fibonacci numbers using a while loop."
   ]
  },
  {
   "cell_type": "code",
   "execution_count": 7,
   "id": "8410bba7-67cb-467b-aa8f-b7a24feb2b34",
   "metadata": {},
   "outputs": [
    {
     "name": "stdout",
     "output_type": "stream",
     "text": [
      "0\n",
      "1\n",
      "1\n",
      "2\n",
      "3\n",
      "5\n",
      "8\n",
      "13\n",
      "21\n",
      "34\n"
     ]
    }
   ],
   "source": [
    "def fib():\n",
    "    a,b=0,1\n",
    "    while True:\n",
    "        yield a\n",
    "        a,b=b,a+b\n",
    "a=fib()\n",
    "for i in range(10):    \n",
    "    print(next(a))"
   ]
  },
  {
   "cell_type": "markdown",
   "id": "a90c1fea-5d75-4039-8dfe-8291597b7c0e",
   "metadata": {},
   "source": [
    "Q7. Write a List Comprehension to iterate through the given string: ‘pwskills’.\n",
    "Expected output: ['p', 'w', 's', 'k', 'i', 'l', 'l', 's']"
   ]
  },
  {
   "cell_type": "code",
   "execution_count": 9,
   "id": "607a06b9-4e45-4548-a4f3-b7071375380c",
   "metadata": {},
   "outputs": [
    {
     "name": "stdout",
     "output_type": "stream",
     "text": [
      "['p', 'w', 's', 'k', 'i', 'l', 'l', 's']\n"
     ]
    }
   ],
   "source": [
    "a=[]\n",
    "for i in \"pwskills\":\n",
    "    a.append(i)\n",
    "    \n",
    "print(a)"
   ]
  },
  {
   "cell_type": "markdown",
   "id": "1b13fe71-0fc6-4218-8f19-5b2d50dec18f",
   "metadata": {},
   "source": [
    "Q8. Write a python program to check whether a given number is Palindrome or not using a while loop."
   ]
  },
  {
   "cell_type": "code",
   "execution_count": 10,
   "id": "635eb85c-f47f-41f8-8be2-99f98134f3f2",
   "metadata": {},
   "outputs": [
    {
     "name": "stdin",
     "output_type": "stream",
     "text": [
      "the number is: 141\n"
     ]
    },
    {
     "name": "stdout",
     "output_type": "stream",
     "text": [
      "the number is palidrom\n"
     ]
    }
   ],
   "source": [
    "a=int(input(\"the number is:\"))\n",
    "temp = a\n",
    "rev=0\n",
    "while a>0:\n",
    "     r = a%10\n",
    "     rev = (rev*10)+r\n",
    "     a = a//10\n",
    "if temp == rev:\n",
    "    print(\"the number is palidrom\")\n",
    "else:\n",
    "    print(\"the number is not\")\n",
    "   \n",
    "    \n"
   ]
  },
  {
   "cell_type": "markdown",
   "id": "7ae212bb-6b08-485b-82c1-066f4c83aec8",
   "metadata": {},
   "source": [
    "Q9. Write a code to print odd numbers from 1 to 100 using list comprehension."
   ]
  },
  {
   "cell_type": "code",
   "execution_count": null,
   "id": "61462456-37c3-4d02-96cc-b30015a0004e",
   "metadata": {},
   "outputs": [],
   "source": []
  }
 ],
 "metadata": {
  "kernelspec": {
   "display_name": "Python 3 (ipykernel)",
   "language": "python",
   "name": "python3"
  },
  "language_info": {
   "codemirror_mode": {
    "name": "ipython",
    "version": 3
   },
   "file_extension": ".py",
   "mimetype": "text/x-python",
   "name": "python",
   "nbconvert_exporter": "python",
   "pygments_lexer": "ipython3",
   "version": "3.10.8"
  }
 },
 "nbformat": 4,
 "nbformat_minor": 5
}

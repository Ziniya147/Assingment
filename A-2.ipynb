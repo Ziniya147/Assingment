{
 "cells": [
  {
   "cell_type": "markdown",
   "id": "d541822d-949e-4d00-bf12-d905287d823f",
   "metadata": {},
   "source": [
    "Q1. How do you comment code in Python? What are the different types of comments?"
   ]
  },
  {
   "cell_type": "markdown",
   "id": "ff094e54-d4c4-4bf5-9d3a-7aab4c633164",
   "metadata": {},
   "source": [
    "Comment is a part of code which is not get executed by the system its just a instruction or containt which make the code simpler to understand.\n",
    "There are two types of comment single line comment and multiple line comment.\n",
    "1) Single line comment --> This type of comment only comment out single line the shortcut for single line comment is ctrl+/.\n",
    "2) Multiple line comment --> This type of comment is used to comment out the whole paragraph the shortcut for multiple line is ctrl+**."
   ]
  },
  {
   "cell_type": "markdown",
   "id": "9127b3ed-a168-436a-96aa-fc501599f192",
   "metadata": {},
   "source": [
    "Q2. What are variables in Python? How do you declare and assign values to variables?"
   ]
  },
  {
   "cell_type": "markdown",
   "id": "53610611-524f-47df-8449-b4b6594e9d08",
   "metadata": {},
   "source": [
    "A variable is created when some value is assigned to it. The value assigned to a variable determines the data type of that variable."
   ]
  },
  {
   "cell_type": "code",
   "execution_count": 5,
   "id": "d1fdcee6-69f3-4ca7-a886-9e62c1bd2eeb",
   "metadata": {},
   "outputs": [],
   "source": [
    "# Example\n",
    "A=5\n",
    "# here  A is variable and 5 is the value which is assigned to A ."
   ]
  },
  {
   "cell_type": "markdown",
   "id": "e5c1c74d-7b4d-4a4c-974e-ee17e24d6013",
   "metadata": {},
   "source": [
    "Q3. How do you convert one data type to another in Python?"
   ]
  },
  {
   "cell_type": "code",
   "execution_count": 2,
   "id": "fed1cc9b-bc24-4cd7-8ffa-6591f2d07813",
   "metadata": {},
   "outputs": [
    {
     "name": "stdout",
     "output_type": "stream",
     "text": [
      "ASCII value of \"G\" is: 71\n",
      "Hexadecimal value of 254 is: 0xfe\n",
      "Octal value of 62 is: 0o76\n",
      "Binary value of 56 is: 0b111000\n"
     ]
    }
   ],
   "source": [
    "print('ASCII value of \"G\" is: ' + str(ord('G')))\n",
    "print('Hexadecimal value of 254 is: ' + str(hex(254)))\n",
    "print('Octal value of 62 is: ' + str(oct(62)))\n",
    "print('Binary value of 56 is: ' + str(bin(56)))"
   ]
  },
  {
   "cell_type": "markdown",
   "id": "bc8c0573-812e-4efd-a18a-da81e532ff3a",
   "metadata": {},
   "source": [
    "Q4. How do you write and execute a Python script from the command line?"
   ]
  },
  {
   "cell_type": "markdown",
   "id": "62ca215b-18b0-45c1-935c-ee951a4a2ea6",
   "metadata": {},
   "source": [
    "To run Python scripts with the python command, we need to open a command-line and type in the word python, or python3 if we have both versions, followed by the path to our script , to perform this open command prompt and the write $ python3 hello.py\n",
    "Hello World!\n",
    "if the we have that version set then it will execute."
   ]
  },
  {
   "cell_type": "markdown",
   "id": "f3144b00-abdd-4e98-b5b6-7953404698bb",
   "metadata": {},
   "source": [
    "Q5. Given a list my_list = [1, 2, 3, 4, 5], write the code to slice the list and obtain the sub-list [2, 3]."
   ]
  },
  {
   "cell_type": "code",
   "execution_count": 4,
   "id": "bf20bbf3-3ffc-4ee6-afcd-1076e4dc23bd",
   "metadata": {},
   "outputs": [
    {
     "data": {
      "text/plain": [
       "[2, 3]"
      ]
     },
     "execution_count": 4,
     "metadata": {},
     "output_type": "execute_result"
    }
   ],
   "source": [
    "my_list = [1,2,3,4,5]\n",
    "my_list[1:3:1]"
   ]
  },
  {
   "cell_type": "markdown",
   "id": "3d318237-1833-48cb-9847-4c5f700e83b1",
   "metadata": {},
   "source": [
    "Q6. What is a complex number in mathematics, and how is it represented in Python?"
   ]
  },
  {
   "cell_type": "markdown",
   "id": "a545f891-ea04-42bd-b30f-6abf90d1f9ac",
   "metadata": {},
   "source": [
    "In mathematics the complex number is the mixer of real number and maginary number it is repersented as a+ib\n",
    "where i is repersented as iota and a is real part and ib is imaginary part."
   ]
  },
  {
   "cell_type": "markdown",
   "id": "7758e7e0-a12b-4d1a-983b-7c8ccda4f1f5",
   "metadata": {},
   "source": [
    "A = 5+7J\n",
    "(A.real)"
   ]
  },
  {
   "cell_type": "code",
   "execution_count": 10,
   "id": "e9f18ced-d25b-4f23-95be-bceac2bd193d",
   "metadata": {},
   "outputs": [
    {
     "data": {
      "text/plain": [
       "7.0"
      ]
     },
     "execution_count": 10,
     "metadata": {},
     "output_type": "execute_result"
    }
   ],
   "source": [
    "A.imag"
   ]
  },
  {
   "cell_type": "markdown",
   "id": "60783f68-4f4b-4058-ba15-2db8bdd82854",
   "metadata": {},
   "source": [
    "Q7. What is the correct way to declare a variable named age and assign the value 25 to it?"
   ]
  },
  {
   "cell_type": "code",
   "execution_count": 11,
   "id": "bdd8051c-abbc-49cb-a6a5-daa6f26a1b82",
   "metadata": {},
   "outputs": [
    {
     "name": "stdout",
     "output_type": "stream",
     "text": [
      "25\n"
     ]
    }
   ],
   "source": [
    "Age = 25\n",
    "print(Age)"
   ]
  },
  {
   "cell_type": "markdown",
   "id": "2fbd91de-526f-4915-abcc-6e15a5341009",
   "metadata": {},
   "source": [
    "Q8. Declare a variable named price and assign the value 9.99 to it. What data type does this variable\n",
    "belong to?"
   ]
  },
  {
   "cell_type": "code",
   "execution_count": 12,
   "id": "f15ae3e2-fddc-4416-b9a7-02d764d085bf",
   "metadata": {},
   "outputs": [
    {
     "data": {
      "text/plain": [
       "float"
      ]
     },
     "execution_count": 12,
     "metadata": {},
     "output_type": "execute_result"
    }
   ],
   "source": [
    "Price = 9.99\n",
    "type(Price)"
   ]
  },
  {
   "cell_type": "markdown",
   "id": "dece1ea2-c20e-4e5f-85c0-e37e10f76a32",
   "metadata": {},
   "source": [
    "Q9. Create a variable named name and assign your full name to it as a string. How would you print the\n",
    "value of this variable?"
   ]
  },
  {
   "cell_type": "code",
   "execution_count": 13,
   "id": "f20b9ae4-8959-41a4-8bf3-a712cdcb10c1",
   "metadata": {},
   "outputs": [
    {
     "name": "stdout",
     "output_type": "stream",
     "text": [
      "Ziniya Ziya\n"
     ]
    }
   ],
   "source": [
    "name = \"Ziniya Ziya\"\n",
    "print(name)"
   ]
  },
  {
   "cell_type": "markdown",
   "id": "f6d92afa-3d5e-4e73-b495-1ed41c958efa",
   "metadata": {},
   "source": [
    "Q10. Given the string \"Hello, World!\", extract the substring \"World\"."
   ]
  },
  {
   "cell_type": "code",
   "execution_count": 14,
   "id": "76ed42a8-111e-4c1d-b88c-49ffa2f2bd03",
   "metadata": {},
   "outputs": [
    {
     "data": {
      "text/plain": [
       "' World'"
      ]
     },
     "execution_count": 14,
     "metadata": {},
     "output_type": "execute_result"
    }
   ],
   "source": [
    "string = \"Hello World\"\n",
    "string[5: :]"
   ]
  },
  {
   "cell_type": "markdown",
   "id": "6803f211-1adf-4b05-bb7c-0a5a8b93db23",
   "metadata": {},
   "source": [
    "Q11. Create a variable named \"is_student\" and assign it a boolean value indicating whether you are\n",
    "currently a student or not"
   ]
  },
  {
   "cell_type": "code",
   "execution_count": 15,
   "id": "08b57188-79a2-48f3-99e7-1254ca625cd3",
   "metadata": {},
   "outputs": [
    {
     "name": "stdout",
     "output_type": "stream",
     "text": [
      "True\n"
     ]
    }
   ],
   "source": [
    "is_student=True\n",
    "print(is_student)"
   ]
  },
  {
   "cell_type": "code",
   "execution_count": null,
   "id": "ab30ac0c-616e-4b11-ac31-80e1e06df7b9",
   "metadata": {},
   "outputs": [],
   "source": []
  }
 ],
 "metadata": {
  "kernelspec": {
   "display_name": "Python 3 (ipykernel)",
   "language": "python",
   "name": "python3"
  },
  "language_info": {
   "codemirror_mode": {
    "name": "ipython",
    "version": 3
   },
   "file_extension": ".py",
   "mimetype": "text/x-python",
   "name": "python",
   "nbconvert_exporter": "python",
   "pygments_lexer": "ipython3",
   "version": "3.10.8"
  }
 },
 "nbformat": 4,
 "nbformat_minor": 5
}

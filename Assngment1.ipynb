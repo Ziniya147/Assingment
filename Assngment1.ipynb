{
 "cells": [
  {
   "cell_type": "markdown",
   "id": "9acc91fa-37e0-473f-aae5-110f389d07f0",
   "metadata": {},
   "source": [
    "Q1. Create one variable containing following type of data"
   ]
  },
  {
   "cell_type": "code",
   "execution_count": 1,
   "id": "af3ac147-1ac2-469f-8c1a-ff7e615045ed",
   "metadata": {},
   "outputs": [
    {
     "data": {
      "text/plain": [
       "str"
      ]
     },
     "execution_count": 1,
     "metadata": {},
     "output_type": "execute_result"
    }
   ],
   "source": [
    "# String\n",
    "S=\"hey how are you\"\n",
    "type(S)"
   ]
  },
  {
   "cell_type": "code",
   "execution_count": 2,
   "id": "072394f0-e022-454a-87c3-7b83262841af",
   "metadata": {},
   "outputs": [
    {
     "data": {
      "text/plain": [
       "list"
      ]
     },
     "execution_count": 2,
     "metadata": {},
     "output_type": "execute_result"
    }
   ],
   "source": [
    "# List\n",
    "L=[1,2,'a',40]\n",
    "type(L)"
   ]
  },
  {
   "cell_type": "code",
   "execution_count": 3,
   "id": "51ff0551-da1b-4b07-bd09-e5a9e05ad0ea",
   "metadata": {},
   "outputs": [
    {
     "data": {
      "text/plain": [
       "float"
      ]
     },
     "execution_count": 3,
     "metadata": {},
     "output_type": "execute_result"
    }
   ],
   "source": [
    "# Float\n",
    "F=44.55\n",
    "type(F)"
   ]
  },
  {
   "cell_type": "markdown",
   "id": "81ff5035-2720-4f07-8fc7-50c30d7c6e51",
   "metadata": {},
   "source": [
    "Q2. What will be the data type of the  given variable"
   ]
  },
  {
   "cell_type": "code",
   "execution_count": 4,
   "id": "1751bfdb-c94e-4e2a-8d4f-583509b3bc76",
   "metadata": {},
   "outputs": [
    {
     "data": {
      "text/plain": [
       "str"
      ]
     },
     "execution_count": 4,
     "metadata": {},
     "output_type": "execute_result"
    }
   ],
   "source": [
    "var1=' '\n",
    "type(var1)"
   ]
  },
  {
   "cell_type": "code",
   "execution_count": 5,
   "id": "7a391cc8-0027-4b70-a94c-9a4f02f3efbf",
   "metadata": {},
   "outputs": [
    {
     "data": {
      "text/plain": [
       "list"
      ]
     },
     "execution_count": 5,
     "metadata": {},
     "output_type": "execute_result"
    }
   ],
   "source": [
    "var2=['DS','ML','Python']\n",
    "type(var2)"
   ]
  },
  {
   "cell_type": "code",
   "execution_count": 6,
   "id": "324419ec-273a-444e-a95c-f37d34232bc2",
   "metadata": {},
   "outputs": [
    {
     "data": {
      "text/plain": [
       "int"
      ]
     },
     "execution_count": 6,
     "metadata": {},
     "output_type": "execute_result"
    }
   ],
   "source": [
    "var3=1\n",
    "type(var3)"
   ]
  },
  {
   "cell_type": "markdown",
   "id": "8f6b86b3-7eee-45ee-bb10-2fa8bdf8ce55",
   "metadata": {},
   "source": [
    "Q3. Explain the use of the following operators using an example"
   ]
  },
  {
   "cell_type": "markdown",
   "id": "ce5cc6b4-c211-4e7f-895e-9c0425c37fa1",
   "metadata": {},
   "source": [
    "1) /--> This is dvision operator a type of arithematic operator.It is use to perform dvision functon between two number."
   ]
  },
  {
   "cell_type": "code",
   "execution_count": 7,
   "id": "07f93289-ed9a-4180-854a-62d9ebfc4406",
   "metadata": {},
   "outputs": [
    {
     "data": {
      "text/plain": [
       "2.0"
      ]
     },
     "execution_count": 7,
     "metadata": {},
     "output_type": "execute_result"
    }
   ],
   "source": [
    "# Example\n",
    "a=10\n",
    "b=5\n",
    "a/b"
   ]
  },
  {
   "cell_type": "markdown",
   "id": "e09765df-673b-4a40-80de-b8cb67f61757",
   "metadata": {},
   "source": [
    "2) %--> This is modulo operator it is also a type of arithmetic operator.It is use to find the remender of two numbers."
   ]
  },
  {
   "cell_type": "code",
   "execution_count": 8,
   "id": "5b83089e-4ac0-4906-8478-f8c9a0565c1e",
   "metadata": {},
   "outputs": [
    {
     "data": {
      "text/plain": [
       "2"
      ]
     },
     "execution_count": 8,
     "metadata": {},
     "output_type": "execute_result"
    }
   ],
   "source": [
    "# Example\n",
    "a=10\n",
    "b=4\n",
    "a%b"
   ]
  },
  {
   "cell_type": "markdown",
   "id": "58e68106-7727-4531-9bb6-8ddff1b87763",
   "metadata": {},
   "source": [
    "3) **--> This is the power operator.It is use to find exponential value of any number."
   ]
  },
  {
   "cell_type": "code",
   "execution_count": 9,
   "id": "92dfa588-65ad-47db-9b0b-fa4f6bf62596",
   "metadata": {},
   "outputs": [
    {
     "data": {
      "text/plain": [
       "27"
      ]
     },
     "execution_count": 9,
     "metadata": {},
     "output_type": "execute_result"
    }
   ],
   "source": [
    "# Example\n",
    "a=3\n",
    "b=3\n",
    "a**b"
   ]
  },
  {
   "cell_type": "markdown",
   "id": "c30e4962-8bb1-410c-a24a-6dadae31a53a",
   "metadata": {},
   "source": [
    "Q4. Create a list of length 10 of your choice containing multiple types of data. Using for loop print the element and its data type"
   ]
  },
  {
   "cell_type": "code",
   "execution_count": 11,
   "id": "08cc3850-7532-42b8-b5ec-fe569e288e1d",
   "metadata": {},
   "outputs": [
    {
     "name": "stdout",
     "output_type": "stream",
     "text": [
      "<class 'str'>\n",
      "<class 'int'>\n",
      "<class 'float'>\n",
      "<class 'str'>\n",
      "<class 'int'>\n",
      "<class 'str'>\n",
      "<class 'float'>\n",
      "<class 'int'>\n",
      "<class 'float'>\n",
      "<class 'str'>\n"
     ]
    }
   ],
   "source": [
    "L=['a',1,44.44,'hey',2,'like',6.4,7,5.5,'how']\n",
    "for i in L:\n",
    "    print(type(i))"
   ]
  },
  {
   "cell_type": "markdown",
   "id": "f54474e7-2d2c-4a00-923f-d49224c8c8bc",
   "metadata": {},
   "source": [
    "Q5. Create a list containing 25 int type data. Using for loop and if-else condition print if the element is divisible by 3 or not"
   ]
  },
  {
   "cell_type": "code",
   "execution_count": 12,
   "id": "832bc1dd-2a9e-47ff-b824-d512d8d8400a",
   "metadata": {},
   "outputs": [
    {
     "name": "stdout",
     "output_type": "stream",
     "text": [
      "no\n",
      "no\n",
      "yes\n",
      "no\n",
      "no\n",
      "yes\n",
      "no\n",
      "no\n",
      "yes\n",
      "no\n",
      "no\n",
      "yes\n",
      "no\n",
      "no\n",
      "yes\n",
      "no\n",
      "no\n",
      "yes\n",
      "no\n",
      "no\n",
      "yes\n",
      "no\n",
      "no\n",
      "yes\n",
      "no\n"
     ]
    }
   ],
   "source": [
    "l=[1,2,3,4,5,6,7,8,9,10,11,12,13,14,15,16,17,18,19,20,21,22,23,24,25]\n",
    "for i in l:\n",
    "    if(i%3==0):\n",
    "        print(\"yes\")\n",
    "    else:\n",
    "        print(\"no\")"
   ]
  },
  {
   "cell_type": "markdown",
   "id": "efedf064-6bdd-4d18-a709-658b726ab550",
   "metadata": {},
   "source": [
    "Q6. What do you understand about mutable and immutable data types? Give examples for both showing this property"
   ]
  },
  {
   "cell_type": "markdown",
   "id": "bd9e9db4-ee60-4d35-b2ce-6e20d541bd7a",
   "metadata": {},
   "source": [
    "Mutable data is a type of data in which we can perforn changes after its creation.wheareas immutable data are those data in which we can't perform changes after its creation. List is an example of mutable data and string is an example of imutable data."
   ]
  }
 ],
 "metadata": {
  "kernelspec": {
   "display_name": "Python 3 (ipykernel)",
   "language": "python",
   "name": "python3"
  },
  "language_info": {
   "codemirror_mode": {
    "name": "ipython",
    "version": 3
   },
   "file_extension": ".py",
   "mimetype": "text/x-python",
   "name": "python",
   "nbconvert_exporter": "python",
   "pygments_lexer": "ipython3",
   "version": "3.10.8"
  }
 },
 "nbformat": 4,
 "nbformat_minor": 5
}

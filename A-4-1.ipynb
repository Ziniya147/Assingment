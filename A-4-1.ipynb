{
 "cells": [
  {
   "cell_type": "markdown",
   "id": "06ee386f-1d18-4d44-90e4-e1abc39ce4c2",
   "metadata": {},
   "source": [
    "Q1. Explain Class and Object with respect to Object-Oriented Programming. Give a suitable example."
   ]
  },
  {
   "cell_type": "markdown",
   "id": "eb76648a-a654-42a7-89c2-c016a510b524",
   "metadata": {},
   "source": [
    "Object − Objects have states and behaviors. Example: A dog has states - color, name, breed as well as behaviors – wagging the tail, barking, eating. An object is an instance of a class. Class − A class can be defined as a template/blueprint that describes the behavior/state that the object of its type support."
   ]
  },
  {
   "cell_type": "markdown",
   "id": "83ddd64d-962d-42f8-9360-1b082476f814",
   "metadata": {},
   "source": [
    "Q2. Name the four pillars of OOPs."
   ]
  },
  {
   "cell_type": "markdown",
   "id": "9e0581a3-3285-4afd-97e3-ad8cf007cd90",
   "metadata": {},
   "source": [
    "The Four Pillars of Object Oriented Programming\n",
    "Abstraction.\n",
    "Encapsulation.\n",
    "Inheritance.\n",
    "Polymorphism."
   ]
  },
  {
   "cell_type": "markdown",
   "id": "d28c28f7-a101-47dd-807c-bb7f71d29c8c",
   "metadata": {},
   "source": [
    "Q3. Explain why the __init__() function is used. Give a suitable example."
   ]
  },
  {
   "cell_type": "markdown",
   "id": "b5834bc6-6f61-4e4f-8f91-f9017585598f",
   "metadata": {},
   "source": [
    "The __init__ function is called every time an object is created from a class. The __init__ method lets the class initialize the object's attributes and serves no other purpose. It is only used within classes"
   ]
  },
  {
   "cell_type": "code",
   "execution_count": 3,
   "id": "cd59707e-c316-4a95-92fc-d73d4aa2094b",
   "metadata": {},
   "outputs": [
    {
     "name": "stdout",
     "output_type": "stream",
     "text": [
      "This dog is a Fox Terrier and his eyes are brown\n"
     ]
    }
   ],
   "source": [
    "class Dog:                \n",
    " \n",
    " def __init__(self, dogBreed,dogEyeColor): \n",
    "  \n",
    "    self.breed = dogBreed   \n",
    "    self.eyeColor = dogEyeColor\n",
    " \n",
    "tomita = Dog(\"Fox Terrier\",\"brown\")\n",
    " \n",
    "print(\"This dog is a\",tomita.breed,\"and his eyes are\",tomita.eyeColor)"
   ]
  },
  {
   "cell_type": "markdown",
   "id": "a95f4281-79f6-45be-b5ec-3ee952d72456",
   "metadata": {},
   "source": [
    "Q4. Why self is used in OOPs?"
   ]
  },
  {
   "cell_type": "markdown",
   "id": "42296c90-62dd-4079-8793-cfbae2212271",
   "metadata": {},
   "source": [
    "Self represents the instance of the class. By using the “self” we can access the attributes and methods of the class in Python. It binds the attributes with the given arguments. The reason you need to use self. is because Python does not use the @ syntax to refer to instance attributes."
   ]
  },
  {
   "cell_type": "markdown",
   "id": "974f6a50-9361-43ad-a9e3-c8980cfcc97e",
   "metadata": {},
   "source": [
    "Q5. What is inheritance? Give an example for each type of inheritance."
   ]
  },
  {
   "cell_type": "markdown",
   "id": "5d5a5419-f301-4068-8ed1-bce687b3ca11",
   "metadata": {},
   "source": [
    "Inheritance is the pillar of oops concept which deals with accepecting or nheriting some properties from base class\n",
    "(parents class) to derived class (child class).it is used for reusablity"
   ]
  },
  {
   "cell_type": "code",
   "execution_count": 7,
   "id": "226b24ed-d2d3-4009-980f-94f9e389f5b1",
   "metadata": {},
   "outputs": [
    {
     "name": "stdout",
     "output_type": "stream",
     "text": [
      "hey how are you\n",
      "i am fine\n"
     ]
    }
   ],
   "source": [
    "# types of nheritance with example\n",
    "# 1 sngle inheritance\n",
    "class parent():\n",
    "    def func1(self):\n",
    "        print(\"hey how are you\")\n",
    "        \n",
    "class child(parent):\n",
    "    def func2(self):\n",
    "        print(\"i am fine\")\n",
    "        \n",
    "object = child()\n",
    "object.func1()\n",
    "object.func2()\n",
    "        "
   ]
  },
  {
   "cell_type": "code",
   "execution_count": 18,
   "id": "9deb7196-0a67-4a93-840b-07a965d530e8",
   "metadata": {},
   "outputs": [
    {
     "name": "stdout",
     "output_type": "stream",
     "text": [
      "Father : RAM\n",
      "Mother : SITA\n"
     ]
    }
   ],
   "source": [
    "# 2.multiple inhertance      \n",
    "\n",
    "\n",
    "class Mother:\n",
    "    mothername = \"\"\n",
    " \n",
    "    def mother(self):\n",
    "        print(self.mothername)\n",
    " \n",
    " # Base class2\n",
    " \n",
    " \n",
    "class Father:\n",
    "    fathername = \"\"\n",
    " \n",
    "    def father(self):\n",
    "        print(self.fathername)\n",
    " \n",
    " # Derived class\n",
    " \n",
    " \n",
    "class Son(Mother, Father):\n",
    "    def parents(self):\n",
    "        \n",
    "        print(\"Father :\", self.fathername)\n",
    "        print(\"Mother :\", self.mothername)\n",
    " \n",
    " \n",
    "# Driver's code\n",
    "s1 = Son()\n",
    "s1.fathername = \"RAM\"\n",
    "s1.mothername = \"SITA\"\n",
    "s1.parents()"
   ]
  },
  {
   "cell_type": "code",
   "execution_count": 27,
   "id": "f6d6ca5c-9685-4d88-9cbc-f2f13fae928b",
   "metadata": {},
   "outputs": [
    {
     "name": "stdout",
     "output_type": "stream",
     "text": [
      "Jason\n",
      "Grandfather name : Jason\n",
      "Father name : Jacub\n",
      "Son name : Jay\n"
     ]
    }
   ],
   "source": [
    "# 3. multilevel inheritance\n",
    "\n",
    "class Grandfather:\n",
    " \n",
    "    def __init__(self, grandfathername):\n",
    "        self.grandfathername = grandfathername\n",
    " \n",
    " # Intermediate class\n",
    " \n",
    " \n",
    "class Father(Grandfather):\n",
    "    def __init__(self, fathername, grandfathername):\n",
    "        self.fathername = fathername\n",
    " \n",
    "        # invoking constructor of Grandfather class\n",
    "        Grandfather.__init__(self, grandfathername)\n",
    " \n",
    " # Derived class\n",
    " \n",
    " \n",
    "class Son(Father):\n",
    "    def __init__(self, sonname, fathername, grandfathername):\n",
    "        self.sonname = sonname\n",
    " # invoking constructor of Father class\n",
    "        Father.__init__(self, fathername, grandfathername)\n",
    " \n",
    "    def print_name(self):\n",
    "        print('Grandfather name :', self.grandfathername)\n",
    "        print(\"Father name :\", self.fathername)\n",
    "        print(\"Son name :\", self.sonname)\n",
    " \n",
    " \n",
    "#  Driver code\n",
    "s1 = Son('Jay', 'Jacub', 'Jason')\n",
    "print(s1.grandfathername)\n",
    "s1.print_name()\n",
    "\n",
    "\n",
    "       \n",
    "    \n",
    "\n",
    "    "
   ]
  },
  {
   "cell_type": "code",
   "execution_count": 29,
   "id": "45a210c4-10c8-4c44-92dd-60200e3f2459",
   "metadata": {},
   "outputs": [
    {
     "name": "stdout",
     "output_type": "stream",
     "text": [
      "This function is in parent class.\n",
      "This function is in child 1.\n",
      "This function is in parent class.\n",
      "This function is in child 2.\n"
     ]
    }
   ],
   "source": [
    "# 3.herarchical inheritance\n",
    "\n",
    "class Parent:\n",
    "    def func1(self):\n",
    "        print(\"This function is in parent class.\")\n",
    " \n",
    " # Derived class1\n",
    " \n",
    " \n",
    "class Child1(Parent):\n",
    "    def func2(self):\n",
    "        print(\"This function is in child 1.\")\n",
    " \n",
    " # Derivied class2\n",
    "class Child2(Parent):\n",
    "    def func3(self):\n",
    "        print(\"This function is in child 2.\")\n",
    "\n",
    "object1 =Child1()\n",
    "object2 =Child2()\n",
    "object1.func1()\n",
    "object1.func2()\n",
    "object2.func1()\n",
    "object2.func3()\n",
    " "
   ]
  },
  {
   "cell_type": "code",
   "execution_count": null,
   "id": "d27386c4-9679-4e89-bba7-2e08971b1392",
   "metadata": {},
   "outputs": [],
   "source": [
    "# 4.Hybrid inheritance\n"
   ]
  }
 ],
 "metadata": {
  "kernelspec": {
   "display_name": "Python 3 (ipykernel)",
   "language": "python",
   "name": "python3"
  },
  "language_info": {
   "codemirror_mode": {
    "name": "ipython",
    "version": 3
   },
   "file_extension": ".py",
   "mimetype": "text/x-python",
   "name": "python",
   "nbconvert_exporter": "python",
   "pygments_lexer": "ipython3",
   "version": "3.10.8"
  }
 },
 "nbformat": 4,
 "nbformat_minor": 5
}
